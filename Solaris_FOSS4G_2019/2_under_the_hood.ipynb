{
 "cells": [
  {
   "cell_type": "markdown",
   "metadata": {},
   "source": [
    "# Notebook 2: What's going on under the hood?\n",
    "\n",
    "Let's go step-by-step through an inference pipeline to see what `solaris` is doing during that process. For simplicity we'll be using the same image as in Notebook 1.\n",
    "\n",
    "There are several steps to the inference process:\n",
    "\n",
    "1. [__Pre-processing input images__](#section1)\n",
    "2. [__Tiling images to ML-compatible sizes__](#Tiling-images-to-ML-compatible-sizes)\n",
    "3. Generating predictions with the neural net: see the geo_nets_101 slides\n",
    "4. [__Going from predictions to geo-registered vector labels__](#Going-from-predictions-to-geo-registered-footprint-labels)\n",
    "\n",
    "Let's start with input pre-processing.\n",
    "\n",
    "<a id=\"section1\"></a>\n",
    "## Pre-processing input images\n",
    "\n",
    "One of the biggest challenges with analyzing overhead imagery (or really any imagery) with neural networks is ensuring that the input data looks similar enough to what the network was trained on. For example, if the neural net was trained on a 16-bit RGB Pan-sharpened image (31 cm resolution) from DigitalGlobe's WorldView-3 satellite, it's not going to work too well on an 8-bit version of a multispectral image taken from the same satellite. This remains a major barrier for ensuring accurate comparisons of model performance: how can we be sure that the performance of two models applied to the same imagery is truly a reflection of the model, just incompatibility of pre-processing?\n",
    "\n",
    "Enter `solaris`, which provides a simple way to build pre-processing pipelines into model inputs. Solaris provides two approaches for normalization of inputs:\n",
    "1. __Recommended:__ normalize inputs during model ingestion using [albumentations](https://albumentations.readthedocs.io), an image transformation library (initially created by [Alexander Buslaev](https://github.com/albu), a Mapbox computer vision engineer, Kaggle Master, and SpaceNet Challenge participant)\n",
    "2. Normalize inputs during image read-in with [`sol.utils.io.imread`](https://solaris.readthedocs.io/en/latest/api/utils.html#solaris.utils.io.imread)\n",
    "3. _Discouraged_: Pre-process your images beforehand and do not normalize after ingestion: You _can_ do this, but it makes it much harder for others to use your models, and requires you to write custom normalization scripts for every dataset you want to use that model on!\n",
    "\n",
    "Let's dig into 1. more closely: how does our sample configuration file specify input data normalization? The following lines from the YAML file define it:\n",
    "\n",
    "```yaml\n",
    "inference_augmentation:\n",
    "  augmentations:\n",
    "    DropChannel:\n",
    "      idx: 3\n",
    "      axis: 2\n",
    "      p: 1.0\n",
    "    Normalize:\n",
    "      mean:\n",
    "        - 0.006479\n",
    "        - 0.009328\n",
    "        - 0.01123\n",
    "      std:\n",
    "        - 0.004986\n",
    "        - 0.004964\n",
    "        - 0.004950\n",
    "      max_pixel_value: 65535.0\n",
    "      p: 1.0\n",
    "  p: 1.0\n",
    "```\n",
    "\n",
    "The model will ingest the source imagery, then perform the following operations:\n",
    "\n",
    "- `DropChannel`: Drop the channel at index 3 in the axis at index 2 (the band axis). This channel corresponds to the Near-IR band in the input imagery, which the SpaceNet competitor did not use in his model. It is done to every image (`p=1.0`).\n",
    "- `Normalize`: Each channel is individually normalized (z-scored) using [albumentations' `Normalize`](https://albumentations.readthedocs.io/en/latest/api/augmentations.html#albumentations.augmentations.transforms.Normalize). The mean and standard deviation (`std`) values were calculated for this specific dataset, and would need to be determined on a dataset-by-dataset basis. `max_pixel_value` specifies the max value of the bit depth of the input (`65535` for 16-bit). This is done to every image (`p=1.0`).\n",
    "\n",
    "And that's all there is to it! There are many different augmentations that can be applied (see the [albumentations documentation](https://albumentations.readthedocs.io) and the [solaris docs](https://solaris.readthedocs.io/en/latest/api/nets.html#module-solaris.nets.transform) for the full lists). For example, during training, it's often important to re-size an image to fit into a neural network's architecture.\n",
    "\n",
    "## Tiling images to ML-compatible sizes\n",
    "\n",
    " When we trained this model, we achieved this by randomly cropping out an appropriate-sized portion of each image, as indicated in the config file:\n",
    "\n",
    "```yaml\n",
    "training_augmentation:\n",
    "  augmentations:\n",
    "    (...)\n",
    "    RandomCrop:\n",
    "      height: 512\n",
    "      width: 512\n",
    "      p: 1.0\n",
    "```\n",
    "Because a different crop is taken at each epoch, we still get full dataset coverage during training. Other approaches, such as re-sizing the image to different dimensions, are also available.\n",
    "\n",
    "__However, this doesn't work for inference, where we want to make sure we get predictions across the entire image.__ To address this, `solaris` contains another object for ingesting inference data, the [`InferenceTiler`](https://solaris.readthedocs.io/en/latest/api/nets.html#solaris.nets.datagen.InferenceTiler). This object chips out images into tiles of the desired size, runs pre-processing on them, and can then feed them into the neural net for prediction:\n",
    "\n",
    "<img src='files/inference_tile_ex.png' style='width:1000px'>\n",
    "\n",
    "There are also options to tile with overlap and average the results, to avoid edge effects - see the documentation for [`sol.nets.datagen.InferenceTiler`](https://solaris.readthedocs.io/en/latest/api/nets.html#solaris.nets.datagen.InferenceTiler) and [`sol.vector.mask.mask_to_poly_geojson`](https://solaris.readthedocs.io/en/latest/api/vector.html#solaris.vector.mask.mask_to_poly_geojson) for details.\n",
    "\n",
    "So, now you understand how data is tiled for inference - but what is the ML model actually doing?\n",
    "\n",
    "## Generating predictions with the neural net\n",
    "\n",
    "<font color=\"red\"><em>Pause here for slides (CosmiQ_Solaris_Inference_Intro)</em></font>\n"
   ]
  },
  {
   "cell_type": "markdown",
   "metadata": {},
   "source": [
    "## Going from predictions to geo-registered footprint labels\n",
    "\n",
    "As you could see from the slides (and the intro notebook), `solaris` takes the raw pixel-wise predictions and converts them into vector-formatted labels. How does it do this?\n",
    "\n",
    "Two steps:\n",
    "1. Binarize\n",
    "2. Convert to vector-formatted, georegistered labels\n",
    "\n",
    "`solaris` provides a single function that integrates both of these steps: [`sol.vector.mask.mask_to_poly_geojson()`](https://solaris.readthedocs.io/en/latest/api/vector.html#solaris.vector.mask.mask_to_poly_geojson). Let's go through an example of how to use this:"
   ]
  },
  {
   "cell_type": "code",
   "execution_count": 1,
   "metadata": {},
   "outputs": [
    {
     "data": {
      "text/plain": [
       "Text(0.5, 1.0, 'Confidence value histogram')"
      ]
     },
     "execution_count": 1,
     "metadata": {},
     "output_type": "execute_result"
    }
   ],
   "source": [
    "import solaris as sol\n",
    "import skimage\n",
    "import os\n",
    "from matplotlib import pyplot as plt\n",
    "\n",
    "data_path = '/data'  # NON-WORKSHOP PARTICIPANTS: change this path to point to the directory where you've stored the data.\n",
    "\n",
    "src_im_path = os.path.join(data_path, 'MVOI_data/MVOI_nadir10_test_sample.tif')\n",
    "inference_output_path = \"xdxd_inference_out/MVOI_nadir10_test_sample.tif\"\n",
    "inference_arr = skimage.io.imread(inference_output_path)[:, :, 0]\n",
    "# first, we'll normalize to a 0-1 range for simple interpretation\n",
    "# 0 = lower p(building), 1 = higher p(building)\n",
    "\n",
    "inference_arr = inference_arr - inference_arr.min()\n",
    "inference_arr = inference_arr/inference_arr.max()\n",
    "\n",
    "f, axarr = plt.subplots(2, 1, figsize=(8,10))\n",
    "\n",
    "axarr[0].imshow(inference_arr, cmap='gray')\n",
    "axarr[0].set_title('Raw inference output')\n",
    "axarr[1].hist(inference_arr.flatten(), bins=50, color='firebrick');\n",
    "axarr[1].set_ylabel('Number of pixels',)\n",
    "axarr[1].set_xlabel('Raw confidence value')\n",
    "axarr[1].set_title('Confidence value histogram')"
   ]
  },
  {
   "cell_type": "markdown",
   "metadata": {},
   "source": [
    "As we can see, this yields one major peak of relatively low-confidence pixels, and some higher-valued pixels. Presumably the majority of pixels don't correspond to buildings, so we'll want to binarize with a threshold somewhere above 0.6 so that those pixels are set to background. `sol.vector.mask.mask_to_poly_geojson()` allows the user to provide a `bg_threshold` argument that specifies the value to separate foreground and background. Let's first try 0.75."
   ]
  },
  {
   "cell_type": "code",
   "execution_count": 34,
   "metadata": {},
   "outputs": [],
   "source": [
    "inferred_vectors = sol.vector.mask.mask_to_poly_geojson(\n",
    "    inference_arr,\n",
    "    bg_threshold=0.75,\n",
    "    reference_im=src_im_path,\n",
    "    do_transform=True)"
   ]
  },
  {
   "cell_type": "markdown",
   "metadata": {},
   "source": [
    "`inferred_vectors` is a [GeoPandas](http://geopandas.org/) `GeoDataFrame` containing the geometries in the WGS84 UTM zone for Atlanta."
   ]
  },
  {
   "cell_type": "code",
   "execution_count": 35,
   "metadata": {},
   "outputs": [
    {
     "data": {
      "text/html": [
       "<div>\n",
       "<style scoped>\n",
       "    .dataframe tbody tr th:only-of-type {\n",
       "        vertical-align: middle;\n",
       "    }\n",
       "\n",
       "    .dataframe tbody tr th {\n",
       "        vertical-align: top;\n",
       "    }\n",
       "\n",
       "    .dataframe thead th {\n",
       "        text-align: right;\n",
       "    }\n",
       "</style>\n",
       "<table border=\"1\" class=\"dataframe\">\n",
       "  <thead>\n",
       "    <tr style=\"text-align: right;\">\n",
       "      <th></th>\n",
       "      <th>geometry</th>\n",
       "      <th>value</th>\n",
       "    </tr>\n",
       "  </thead>\n",
       "  <tbody>\n",
       "    <tr>\n",
       "      <th>0</th>\n",
       "      <td>POLYGON ((745940 3726373, 745943 3726373, 7459...</td>\n",
       "      <td>255.0</td>\n",
       "    </tr>\n",
       "    <tr>\n",
       "      <th>1</th>\n",
       "      <td>POLYGON ((745921 3726364.5, 745921.5 3726364.5...</td>\n",
       "      <td>255.0</td>\n",
       "    </tr>\n",
       "    <tr>\n",
       "      <th>2</th>\n",
       "      <td>POLYGON ((746196 3726252, 746198 3726252, 7461...</td>\n",
       "      <td>255.0</td>\n",
       "    </tr>\n",
       "    <tr>\n",
       "      <th>3</th>\n",
       "      <td>POLYGON ((745835 3726233, 745840.5 3726233, 74...</td>\n",
       "      <td>255.0</td>\n",
       "    </tr>\n",
       "    <tr>\n",
       "      <th>4</th>\n",
       "      <td>POLYGON ((746077.5 3726200, 746079.5 3726200, ...</td>\n",
       "      <td>255.0</td>\n",
       "    </tr>\n",
       "    <tr>\n",
       "      <th>5</th>\n",
       "      <td>POLYGON ((745994.5 3726093, 745996.5 3726093, ...</td>\n",
       "      <td>255.0</td>\n",
       "    </tr>\n",
       "    <tr>\n",
       "      <th>6</th>\n",
       "      <td>POLYGON ((745967.5 3726059, 745971.5 3726059, ...</td>\n",
       "      <td>255.0</td>\n",
       "    </tr>\n",
       "    <tr>\n",
       "      <th>7</th>\n",
       "      <td>POLYGON ((745909.5 3726048.5, 745912 3726048.5...</td>\n",
       "      <td>255.0</td>\n",
       "    </tr>\n",
       "  </tbody>\n",
       "</table>\n",
       "</div>"
      ],
      "text/plain": [
       "                                            geometry  value\n",
       "0  POLYGON ((745940 3726373, 745943 3726373, 7459...  255.0\n",
       "1  POLYGON ((745921 3726364.5, 745921.5 3726364.5...  255.0\n",
       "2  POLYGON ((746196 3726252, 746198 3726252, 7461...  255.0\n",
       "3  POLYGON ((745835 3726233, 745840.5 3726233, 74...  255.0\n",
       "4  POLYGON ((746077.5 3726200, 746079.5 3726200, ...  255.0\n",
       "5  POLYGON ((745994.5 3726093, 745996.5 3726093, ...  255.0\n",
       "6  POLYGON ((745967.5 3726059, 745971.5 3726059, ...  255.0\n",
       "7  POLYGON ((745909.5 3726048.5, 745912 3726048.5...  255.0"
      ]
     },
     "execution_count": 35,
     "metadata": {},
     "output_type": "execute_result"
    }
   ],
   "source": [
    "inferred_vectors"
   ]
  },
  {
   "cell_type": "markdown",
   "metadata": {},
   "source": [
    "Let's visualize those geometries:"
   ]
  },
  {
   "cell_type": "code",
   "execution_count": 36,
   "metadata": {},
   "outputs": [
    {
     "data": {
      "image/svg+xml": [
       "<svg xmlns=\"http://www.w3.org/2000/svg\" xmlns:xlink=\"http://www.w3.org/1999/xlink\" width=\"300\" height=\"300\" viewBox=\"745815.2 3726024.2 399.60000000009313 363.59999999962747\" preserveAspectRatio=\"xMinYMin meet\"><g transform=\"matrix(1,0,0,-1,0,7452412.0)\"><g><path fill-rule=\"evenodd\" fill=\"#66cc99\" stroke=\"#555555\" stroke-width=\"2.664000000000621\" opacity=\"0.6\" d=\"M 745909.5,3726048.5 L 745912.0,3726048.5 L 745912.0,3726048.0 L 745916.5,3726048.0 L 745916.5,3726047.5 L 745917.5,3726047.5 L 745917.5,3726047.0 L 745918.5,3726047.0 L 745918.5,3726043.5 L 745918.0,3726043.5 L 745918.0,3726042.5 L 745917.5,3726042.5 L 745917.5,3726042.0 L 745917.0,3726042.0 L 745917.0,3726041.0 L 745916.5,3726041.0 L 745916.5,3726040.0 L 745916.0,3726040.0 L 745916.0,3726039.5 L 745915.5,3726039.5 L 745915.5,3726039.0 L 745910.5,3726039.0 L 745910.5,3726039.5 L 745909.5,3726039.5 L 745909.5,3726040.5 L 745909.0,3726040.5 L 745909.0,3726048.0 L 745909.5,3726048.0 L 745909.5,3726048.5 z\" /><path fill-rule=\"evenodd\" fill=\"#66cc99\" stroke=\"#555555\" stroke-width=\"2.664000000000621\" opacity=\"0.6\" d=\"M 745967.5,3726059.0 L 745971.5,3726059.0 L 745971.5,3726058.5 L 745972.0,3726058.5 L 745972.0,3726057.5 L 745972.5,3726057.5 L 745972.5,3726054.5 L 745972.0,3726054.5 L 745972.0,3726050.0 L 745972.5,3726050.0 L 745972.5,3726048.5 L 745973.0,3726048.5 L 745973.0,3726046.5 L 745973.5,3726046.5 L 745973.5,3726045.5 L 745973.0,3726045.5 L 745973.0,3726044.5 L 745972.5,3726044.5 L 745972.0,3726044.5 L 745972.0,3726044.0 L 745971.5,3726044.0 L 745970.5,3726044.0 L 745970.5,3726043.5 L 745967.5,3726043.5 L 745967.5,3726044.5 L 745967.0,3726044.5 L 745967.0,3726048.5 L 745966.5,3726048.5 L 745966.5,3726057.5 L 745967.0,3726057.5 L 745967.0,3726058.5 L 745967.5,3726058.5 L 745967.5,3726059.0 z\" /><path fill-rule=\"evenodd\" fill=\"#66cc99\" stroke=\"#555555\" stroke-width=\"2.664000000000621\" opacity=\"0.6\" d=\"M 745994.5,3726093.0 L 745996.5,3726093.0 L 745996.5,3726092.5 L 745999.0,3726092.5 L 745999.0,3726088.0 L 745999.5,3726088.0 L 745999.5,3726082.0 L 746000.0,3726082.0 L 746000.0,3726074.5 L 746000.5,3726074.5 L 746000.5,3726070.5 L 746000.0,3726070.5 L 746000.0,3726067.0 L 745999.5,3726067.0 L 745999.0,3726067.0 L 745999.0,3726066.5 L 745998.5,3726066.5 L 745997.5,3726066.5 L 745997.5,3726066.0 L 745997.0,3726066.0 L 745992.0,3726066.0 L 745992.0,3726065.5 L 745991.5,3726065.5 L 745982.5,3726065.5 L 745982.5,3726065.0 L 745982.0,3726065.0 L 745974.0,3726065.0 L 745974.0,3726064.5 L 745973.5,3726064.5 L 745965.5,3726064.5 L 745965.5,3726064.0 L 745962.5,3726064.0 L 745962.5,3726064.5 L 745962.0,3726064.5 L 745962.0,3726064.0 L 745955.5,3726064.0 L 745955.5,3726064.5 L 745954.0,3726064.5 L 745954.0,3726064.0 L 745953.5,3726064.0 L 745951.5,3726064.0 L 745951.5,3726063.5 L 745951.0,3726063.5 L 745945.0,3726063.5 L 745945.0,3726062.5 L 745944.5,3726062.5 L 745931.0,3726062.5 L 745931.0,3726062.0 L 745923.0,3726062.0 L 745923.0,3726064.0 L 745923.5,3726064.0 L 745923.5,3726064.5 L 745924.0,3726064.5 L 745924.0,3726065.5 L 745924.5,3726065.5 L 745924.5,3726066.0 L 745925.0,3726066.0 L 745925.0,3726066.5 L 745925.5,3726066.5 L 745925.5,3726067.5 L 745926.0,3726067.5 L 745926.0,3726068.0 L 745926.5,3726068.0 L 745926.5,3726068.5 L 745927.0,3726068.5 L 745927.0,3726069.0 L 745927.5,3726069.0 L 745927.5,3726069.5 L 745928.0,3726069.5 L 745928.0,3726070.0 L 745928.5,3726070.0 L 745928.5,3726070.5 L 745929.0,3726070.5 L 745929.0,3726071.0 L 745929.5,3726071.0 L 745929.5,3726071.5 L 745930.0,3726071.5 L 745930.0,3726072.5 L 745930.5,3726072.5 L 745930.5,3726073.0 L 745931.0,3726073.0 L 745931.0,3726073.5 L 745931.5,3726073.5 L 745931.5,3726074.0 L 745932.0,3726074.0 L 745932.0,3726074.5 L 745932.5,3726074.5 L 745932.5,3726075.0 L 745933.0,3726075.0 L 745933.0,3726075.5 L 745933.5,3726075.5 L 745933.5,3726076.5 L 745934.0,3726076.5 L 745934.0,3726077.0 L 745934.5,3726077.0 L 745934.5,3726077.5 L 745935.0,3726077.5 L 745935.0,3726078.0 L 745935.5,3726078.0 L 745935.5,3726078.5 L 745936.0,3726078.5 L 745936.0,3726079.0 L 745936.5,3726079.0 L 745936.5,3726079.5 L 745937.0,3726079.5 L 745937.0,3726080.0 L 745937.5,3726080.0 L 745937.5,3726080.5 L 745938.0,3726080.5 L 745938.0,3726081.0 L 745938.5,3726081.0 L 745938.5,3726081.5 L 745939.0,3726081.5 L 745939.0,3726082.5 L 745939.5,3726082.5 L 745939.5,3726083.0 L 745940.0,3726083.0 L 745940.0,3726083.5 L 745940.5,3726083.5 L 745940.5,3726084.0 L 745941.0,3726084.0 L 745941.0,3726084.5 L 745941.5,3726084.5 L 745941.5,3726085.5 L 745942.0,3726085.5 L 745942.0,3726086.0 L 745942.5,3726086.0 L 745942.5,3726086.5 L 745943.0,3726086.5 L 745943.0,3726087.5 L 745943.5,3726087.5 L 745943.5,3726088.0 L 745944.0,3726088.0 L 745944.0,3726088.5 L 745944.5,3726088.5 L 745944.5,3726089.5 L 745945.0,3726089.5 L 745945.5,3726089.5 L 745945.5,3726090.5 L 745946.0,3726090.5 L 745946.5,3726090.5 L 745946.5,3726091.0 L 745948.5,3726091.0 L 745949.0,3726091.0 L 745949.0,3726091.5 L 745951.0,3726091.5 L 745951.0,3726091.0 L 745957.5,3726091.0 L 745957.5,3726091.5 L 745972.0,3726091.5 L 745972.5,3726091.5 L 745972.5,3726092.0 L 745989.0,3726092.0 L 745989.5,3726092.0 L 745989.5,3726092.5 L 745994.0,3726092.5 L 745994.5,3726092.5 L 745994.5,3726093.0 z\" /><path fill-rule=\"evenodd\" fill=\"#66cc99\" stroke=\"#555555\" stroke-width=\"2.664000000000621\" opacity=\"0.6\" d=\"M 746077.5,3726200.0 L 746079.5,3726200.0 L 746079.5,3726199.5 L 746083.5,3726199.5 L 746083.5,3726199.0 L 746085.0,3726199.0 L 746085.0,3726198.5 L 746085.5,3726198.5 L 746085.5,3726197.5 L 746086.5,3726197.5 L 746086.5,3726197.0 L 746087.5,3726197.0 L 746087.5,3726196.5 L 746088.5,3726196.5 L 746088.5,3726197.0 L 746105.5,3726197.0 L 746105.5,3726196.5 L 746116.0,3726196.5 L 746116.0,3726196.0 L 746124.5,3726196.0 L 746124.5,3726195.5 L 746139.0,3726195.5 L 746139.0,3726195.0 L 746150.5,3726195.0 L 746150.5,3726194.5 L 746164.5,3726194.5 L 746164.5,3726195.0 L 746171.0,3726195.0 L 746171.0,3726194.5 L 746188.5,3726194.5 L 746188.5,3726194.0 L 746190.5,3726194.0 L 746190.5,3726194.5 L 746192.5,3726194.5 L 746192.5,3726194.0 L 746195.5,3726194.0 L 746195.5,3726193.5 L 746196.5,3726193.5 L 746196.5,3726192.5 L 746197.0,3726192.5 L 746197.0,3726186.0 L 746197.5,3726186.0 L 746197.5,3726172.0 L 746197.0,3726172.0 L 746197.0,3726171.0 L 746196.5,3726171.0 L 746196.5,3726170.5 L 746196.0,3726170.5 L 746195.5,3726170.5 L 746195.5,3726170.0 L 746195.0,3726170.0 L 746192.0,3726170.0 L 746192.0,3726169.5 L 746189.5,3726169.5 L 746189.5,3726170.0 L 746181.0,3726170.0 L 746181.0,3726169.5 L 746180.5,3726169.5 L 746157.0,3726169.5 L 746157.0,3726169.0 L 746146.0,3726169.0 L 746146.0,3726169.5 L 746093.5,3726169.5 L 746093.5,3726169.0 L 746093.0,3726169.0 L 746088.5,3726169.0 L 746088.5,3726168.5 L 746088.0,3726168.5 L 746088.0,3726168.0 L 746087.5,3726168.0 L 746087.0,3726168.0 L 746087.0,3726167.5 L 746086.5,3726167.5 L 746086.5,3726167.0 L 746086.0,3726167.0 L 746086.0,3726166.0 L 746085.5,3726166.0 L 746085.5,3726164.0 L 746085.0,3726164.0 L 746085.0,3726161.5 L 746084.5,3726161.5 L 746084.0,3726161.5 L 746084.0,3726161.0 L 746083.5,3726161.0 L 746083.5,3726160.5 L 746078.5,3726160.5 L 746078.5,3726161.0 L 746078.0,3726161.0 L 746078.0,3726162.5 L 746077.5,3726162.5 L 746077.5,3726178.0 L 746077.0,3726178.0 L 746077.0,3726199.5 L 746077.5,3726199.5 L 746077.5,3726200.0 z\" /><path fill-rule=\"evenodd\" fill=\"#66cc99\" stroke=\"#555555\" stroke-width=\"2.664000000000621\" opacity=\"0.6\" d=\"M 745835.0,3726233.0 L 745840.5,3726233.0 L 745840.5,3726232.5 L 745843.0,3726232.5 L 745843.0,3726232.0 L 745865.5,3726232.0 L 745865.5,3726231.5 L 745876.5,3726231.5 L 745876.5,3726231.0 L 745897.5,3726231.0 L 745897.5,3726230.5 L 745903.5,3726230.5 L 745903.5,3726231.0 L 745904.5,3726231.0 L 745904.5,3726230.5 L 745906.5,3726230.5 L 745906.5,3726230.0 L 745907.0,3726230.0 L 745907.0,3726229.5 L 745907.5,3726229.5 L 745907.5,3726229.0 L 745908.0,3726229.0 L 745908.0,3726228.0 L 745909.0,3726228.0 L 745909.0,3726228.5 L 745909.5,3726228.5 L 745909.5,3726229.5 L 745910.0,3726229.5 L 745910.0,3726230.0 L 745910.5,3726230.0 L 745910.5,3726230.5 L 745911.0,3726230.5 L 745911.5,3726230.5 L 745911.5,3726231.0 L 745914.0,3726231.0 L 745914.0,3726230.5 L 745918.0,3726230.5 L 745918.0,3726230.0 L 745920.0,3726230.0 L 745920.0,3726221.5 L 745919.5,3726221.5 L 745919.5,3726210.5 L 745919.0,3726210.5 L 745919.0,3726210.0 L 745913.0,3726210.0 L 745913.0,3726210.5 L 745911.0,3726210.5 L 745911.0,3726211.0 L 745910.5,3726211.0 L 745910.5,3726212.0 L 745910.0,3726212.0 L 745910.0,3726213.0 L 745909.5,3726213.0 L 745909.5,3726214.0 L 745909.0,3726214.0 L 745909.0,3726215.5 L 745908.0,3726215.5 L 745908.0,3726214.5 L 745907.5,3726214.5 L 745907.0,3726214.5 L 745907.0,3726214.0 L 745906.5,3726214.0 L 745906.5,3726213.5 L 745906.0,3726213.5 L 745906.0,3726213.0 L 745905.5,3726213.0 L 745905.0,3726213.0 L 745905.0,3726212.5 L 745904.5,3726212.5 L 745904.5,3726213.0 L 745903.0,3726213.0 L 745903.0,3726213.5 L 745901.0,3726213.5 L 745901.0,3726213.0 L 745900.5,3726213.0 L 745899.5,3726213.0 L 745899.5,3726212.5 L 745883.0,3726212.5 L 745883.0,3726213.0 L 745878.0,3726213.0 L 745878.0,3726213.5 L 745875.5,3726213.5 L 745875.5,3726213.0 L 745875.0,3726213.0 L 745860.5,3726213.0 L 745860.5,3726212.5 L 745845.0,3726212.5 L 745845.0,3726213.0 L 745832.0,3726213.0 L 745832.0,3726212.5 L 745830.0,3726212.5 L 745830.0,3726230.5 L 745830.5,3726230.5 L 745830.5,3726232.5 L 745834.5,3726232.5 L 745835.0,3726232.5 L 745835.0,3726233.0 z M 745908.0,3726226.5 L 745908.0,3726225.5 L 745909.0,3726225.5 L 745909.0,3726226.5 L 745908.0,3726226.5 z\" /><path fill-rule=\"evenodd\" fill=\"#66cc99\" stroke=\"#555555\" stroke-width=\"2.664000000000621\" opacity=\"0.6\" d=\"M 746196.0,3726252.0 L 746198.0,3726252.0 L 746198.0,3726251.5 L 746199.5,3726251.5 L 746199.5,3726250.5 L 746200.0,3726250.5 L 746200.0,3726241.5 L 746199.5,3726241.5 L 746199.5,3726239.5 L 746199.0,3726239.5 L 746199.0,3726240.0 L 746198.0,3726240.0 L 746198.0,3726239.5 L 746195.5,3726239.5 L 746195.5,3726240.0 L 746195.0,3726240.0 L 746195.0,3726244.5 L 746194.5,3726244.5 L 746194.5,3726246.5 L 746194.0,3726246.5 L 746194.0,3726249.0 L 746194.5,3726249.0 L 746194.5,3726251.0 L 746195.0,3726251.0 L 746195.0,3726251.5 L 746195.5,3726251.5 L 746196.0,3726251.5 L 746196.0,3726252.0 z\" /><path fill-rule=\"evenodd\" fill=\"#66cc99\" stroke=\"#555555\" stroke-width=\"2.664000000000621\" opacity=\"0.6\" d=\"M 745921.0,3726364.5 L 745921.5,3726364.5 L 745921.5,3726364.0 L 745922.5,3726364.0 L 745922.5,3726363.5 L 745923.0,3726363.5 L 745923.0,3726363.0 L 745923.5,3726363.0 L 745923.5,3726362.5 L 745924.0,3726362.5 L 745924.0,3726362.0 L 745924.5,3726362.0 L 745924.5,3726361.5 L 745925.0,3726361.5 L 745925.0,3726361.0 L 745925.5,3726361.0 L 745925.5,3726360.5 L 745926.5,3726360.5 L 745926.5,3726360.0 L 745927.0,3726360.0 L 745927.0,3726359.5 L 745927.5,3726359.5 L 745927.5,3726359.0 L 745928.0,3726359.0 L 745928.0,3726358.5 L 745928.5,3726358.5 L 745928.5,3726358.0 L 745929.0,3726358.0 L 745929.0,3726357.5 L 745929.5,3726357.5 L 745929.5,3726357.0 L 745930.0,3726357.0 L 745930.0,3726356.5 L 745931.0,3726356.5 L 745931.0,3726356.0 L 745931.5,3726356.0 L 745931.5,3726355.5 L 745932.0,3726355.5 L 745932.0,3726355.0 L 745933.0,3726355.0 L 745933.0,3726354.5 L 745934.0,3726354.5 L 745934.0,3726354.0 L 745934.5,3726354.0 L 745934.5,3726353.5 L 745935.5,3726353.5 L 745935.5,3726353.0 L 745936.0,3726353.0 L 745936.0,3726352.5 L 745936.5,3726352.5 L 745936.5,3726352.0 L 745937.5,3726352.0 L 745937.5,3726351.5 L 745938.5,3726351.5 L 745938.5,3726351.0 L 745939.0,3726351.0 L 745939.0,3726350.5 L 745939.5,3726350.5 L 745939.5,3726350.0 L 745940.5,3726350.0 L 745940.5,3726349.0 L 745941.0,3726349.0 L 745941.0,3726348.5 L 745941.5,3726348.5 L 745941.5,3726348.0 L 745942.5,3726348.0 L 745942.5,3726347.5 L 745943.0,3726347.5 L 745943.0,3726347.0 L 745944.0,3726347.0 L 745944.0,3726346.5 L 745944.5,3726346.5 L 745944.5,3726346.0 L 745945.0,3726346.0 L 745945.0,3726337.0 L 745944.5,3726337.0 L 745944.5,3726336.5 L 745944.0,3726336.5 L 745944.0,3726336.0 L 745943.5,3726336.0 L 745943.5,3726335.5 L 745943.0,3726335.5 L 745943.0,3726335.0 L 745942.5,3726335.0 L 745942.5,3726334.5 L 745942.0,3726334.5 L 745942.0,3726334.0 L 745941.5,3726334.0 L 745941.5,3726333.5 L 745941.0,3726333.5 L 745941.0,3726333.0 L 745940.5,3726333.0 L 745940.5,3726332.5 L 745940.0,3726332.5 L 745939.5,3726332.5 L 745939.5,3726332.0 L 745939.0,3726332.0 L 745939.0,3726331.5 L 745938.5,3726331.5 L 745937.5,3726331.5 L 745937.5,3726331.0 L 745937.0,3726331.0 L 745937.0,3726330.5 L 745936.5,3726330.5 L 745936.5,3726330.0 L 745936.0,3726330.0 L 745936.0,3726329.5 L 745935.5,3726329.5 L 745935.5,3726329.0 L 745935.0,3726329.0 L 745935.0,3726328.0 L 745934.5,3726328.0 L 745934.5,3726327.5 L 745934.0,3726327.5 L 745934.0,3726326.0 L 745933.5,3726326.0 L 745933.5,3726325.5 L 745933.0,3726325.5 L 745933.0,3726325.0 L 745932.5,3726325.0 L 745932.5,3726324.0 L 745932.0,3726324.0 L 745932.0,3726323.5 L 745931.5,3726323.5 L 745931.0,3726323.5 L 745931.0,3726323.0 L 745930.5,3726323.0 L 745930.5,3726322.5 L 745930.0,3726322.5 L 745930.0,3726322.0 L 745929.5,3726322.0 L 745929.0,3726322.0 L 745929.0,3726321.5 L 745928.5,3726321.5 L 745928.0,3726321.5 L 745928.0,3726321.0 L 745927.5,3726321.0 L 745927.0,3726321.0 L 745927.0,3726320.5 L 745924.0,3726320.5 L 745924.0,3726321.0 L 745923.0,3726321.0 L 745923.0,3726321.5 L 745922.0,3726321.5 L 745922.0,3726322.0 L 745921.5,3726322.0 L 745921.5,3726322.5 L 745920.5,3726322.5 L 745920.5,3726323.0 L 745920.0,3726323.0 L 745920.0,3726323.5 L 745919.0,3726323.5 L 745919.0,3726324.0 L 745918.5,3726324.0 L 745918.5,3726324.5 L 745918.0,3726324.5 L 745918.0,3726325.0 L 745917.0,3726325.0 L 745917.0,3726325.5 L 745916.0,3726325.5 L 745916.0,3726326.0 L 745915.0,3726326.0 L 745915.0,3726326.5 L 745914.5,3726326.5 L 745914.5,3726327.0 L 745914.0,3726327.0 L 745914.0,3726327.5 L 745913.0,3726327.5 L 745913.0,3726328.0 L 745912.5,3726328.0 L 745912.5,3726328.5 L 745911.5,3726328.5 L 745911.5,3726329.0 L 745910.5,3726329.0 L 745910.5,3726329.5 L 745909.5,3726329.5 L 745909.5,3726330.0 L 745908.5,3726330.0 L 745908.5,3726330.5 L 745908.0,3726330.5 L 745908.0,3726331.0 L 745907.0,3726331.0 L 745907.0,3726331.5 L 745906.0,3726331.5 L 745906.0,3726332.0 L 745905.5,3726332.0 L 745905.5,3726332.5 L 745904.5,3726332.5 L 745904.5,3726333.0 L 745904.0,3726333.0 L 745904.0,3726333.5 L 745903.5,3726333.5 L 745903.5,3726334.0 L 745903.0,3726334.0 L 745903.0,3726336.5 L 745903.5,3726336.5 L 745903.5,3726337.5 L 745904.0,3726337.5 L 745904.0,3726338.5 L 745904.5,3726338.5 L 745904.5,3726339.0 L 745905.0,3726339.0 L 745905.0,3726340.0 L 745905.5,3726340.0 L 745905.5,3726341.0 L 745906.0,3726341.0 L 745906.0,3726342.0 L 745906.5,3726342.0 L 745906.5,3726342.5 L 745907.0,3726342.5 L 745907.0,3726343.5 L 745907.5,3726343.5 L 745907.5,3726345.0 L 745908.0,3726345.0 L 745908.0,3726345.5 L 745908.5,3726345.5 L 745908.5,3726346.0 L 745909.0,3726346.0 L 745909.0,3726349.5 L 745909.5,3726349.5 L 745909.5,3726351.0 L 745910.0,3726351.0 L 745910.0,3726352.0 L 745910.5,3726352.0 L 745910.5,3726352.5 L 745911.0,3726352.5 L 745911.0,3726353.5 L 745911.5,3726353.5 L 745911.5,3726354.0 L 745912.0,3726354.0 L 745912.0,3726355.0 L 745912.5,3726355.0 L 745912.5,3726355.5 L 745913.0,3726355.5 L 745913.0,3726356.0 L 745913.5,3726356.0 L 745913.5,3726357.0 L 745914.0,3726357.0 L 745914.0,3726357.5 L 745914.5,3726357.5 L 745914.5,3726358.0 L 745915.0,3726358.0 L 745915.0,3726358.5 L 745915.5,3726358.5 L 745915.5,3726359.0 L 745916.0,3726359.0 L 745916.0,3726360.0 L 745916.5,3726360.0 L 745916.5,3726360.5 L 745917.0,3726360.5 L 745917.0,3726361.0 L 745917.5,3726361.0 L 745917.5,3726361.5 L 745918.0,3726361.5 L 745918.0,3726362.5 L 745918.5,3726362.5 L 745918.5,3726363.0 L 745919.0,3726363.0 L 745919.0,3726363.5 L 745919.5,3726363.5 L 745919.5,3726364.0 L 745920.5,3726364.0 L 745921.0,3726364.0 L 745921.0,3726364.5 z\" /><path fill-rule=\"evenodd\" fill=\"#66cc99\" stroke=\"#555555\" stroke-width=\"2.664000000000621\" opacity=\"0.6\" d=\"M 745940.0,3726373.0 L 745943.0,3726373.0 L 745943.0,3726372.5 L 745944.0,3726372.5 L 745944.0,3726372.0 L 745944.5,3726372.0 L 745944.5,3726371.5 L 745945.0,3726371.5 L 745945.0,3726370.5 L 745946.5,3726370.5 L 745946.5,3726370.0 L 745947.0,3726370.0 L 745947.0,3726369.5 L 745948.0,3726369.5 L 745948.0,3726369.0 L 745948.5,3726369.0 L 745948.5,3726368.5 L 745949.5,3726368.5 L 745949.5,3726368.0 L 745950.0,3726368.0 L 745950.0,3726367.5 L 745950.5,3726367.5 L 745950.5,3726367.0 L 745951.0,3726367.0 L 745951.0,3726366.5 L 745951.5,3726366.5 L 745951.5,3726366.0 L 745952.5,3726366.0 L 745952.5,3726365.5 L 745953.0,3726365.5 L 745953.0,3726365.0 L 745953.5,3726365.0 L 745953.5,3726364.5 L 745954.0,3726364.5 L 745954.0,3726364.0 L 745955.0,3726364.0 L 745955.0,3726363.5 L 745955.5,3726363.5 L 745955.5,3726363.0 L 745956.0,3726363.0 L 745956.0,3726362.5 L 745957.0,3726362.5 L 745957.0,3726362.0 L 745957.5,3726362.0 L 745957.5,3726361.5 L 745958.0,3726361.5 L 745958.0,3726361.0 L 745958.5,3726361.0 L 745958.5,3726360.5 L 745959.5,3726360.5 L 745959.5,3726360.0 L 745960.0,3726360.0 L 745960.0,3726359.5 L 745960.5,3726359.5 L 745960.5,3726359.0 L 745961.0,3726359.0 L 745961.0,3726358.5 L 745961.5,3726358.5 L 745961.5,3726356.0 L 745961.0,3726356.0 L 745961.0,3726355.5 L 745960.5,3726355.5 L 745960.0,3726355.5 L 745960.0,3726355.0 L 745959.5,3726355.0 L 745959.5,3726354.5 L 745959.0,3726354.5 L 745959.0,3726354.0 L 745958.5,3726354.0 L 745958.5,3726353.5 L 745958.0,3726353.5 L 745958.0,3726353.0 L 745957.5,3726353.0 L 745957.5,3726352.5 L 745957.0,3726352.5 L 745957.0,3726352.0 L 745956.5,3726352.0 L 745956.5,3726351.5 L 745956.0,3726351.5 L 745956.0,3726351.0 L 745955.5,3726351.0 L 745955.5,3726350.5 L 745955.0,3726350.5 L 745955.0,3726350.0 L 745954.5,3726350.0 L 745954.0,3726350.0 L 745954.0,3726349.5 L 745953.5,3726349.5 L 745953.5,3726349.0 L 745952.0,3726349.0 L 745952.0,3726349.5 L 745951.5,3726349.5 L 745951.5,3726350.0 L 745951.0,3726350.0 L 745951.0,3726350.5 L 745950.0,3726350.5 L 745950.0,3726351.0 L 745949.0,3726351.0 L 745949.0,3726351.5 L 745948.5,3726351.5 L 745948.5,3726352.0 L 745948.0,3726352.0 L 745948.0,3726353.0 L 745947.5,3726353.0 L 745947.5,3726353.5 L 745947.0,3726353.5 L 745947.0,3726354.0 L 745946.5,3726354.0 L 745946.5,3726355.0 L 745946.0,3726355.0 L 745946.0,3726355.5 L 745945.5,3726355.5 L 745945.5,3726356.0 L 745945.0,3726356.0 L 745945.0,3726355.5 L 745944.5,3726355.5 L 745944.5,3726356.0 L 745944.0,3726356.0 L 745944.0,3726356.5 L 745943.0,3726356.5 L 745943.0,3726357.0 L 745942.5,3726357.0 L 745942.5,3726357.5 L 745941.5,3726357.5 L 745941.5,3726358.0 L 745941.0,3726358.0 L 745941.0,3726358.5 L 745940.0,3726358.5 L 745940.0,3726359.0 L 745939.5,3726359.0 L 745939.5,3726359.5 L 745938.5,3726359.5 L 745938.5,3726360.0 L 745938.0,3726360.0 L 745938.0,3726360.5 L 745937.5,3726360.5 L 745937.5,3726361.0 L 745936.5,3726361.0 L 745936.5,3726361.5 L 745936.0,3726361.5 L 745936.0,3726362.0 L 745935.0,3726362.0 L 745935.0,3726362.5 L 745934.5,3726362.5 L 745934.5,3726363.0 L 745934.0,3726363.0 L 745934.0,3726363.5 L 745933.5,3726363.5 L 745933.5,3726365.5 L 745934.0,3726365.5 L 745934.0,3726366.5 L 745934.5,3726366.5 L 745934.5,3726367.5 L 745935.0,3726367.5 L 745935.5,3726367.5 L 745935.5,3726368.0 L 745936.0,3726368.0 L 745936.0,3726368.5 L 745936.5,3726368.5 L 745936.5,3726369.0 L 745937.0,3726369.0 L 745937.0,3726369.5 L 745937.5,3726369.5 L 745937.5,3726370.0 L 745938.0,3726370.0 L 745938.0,3726370.5 L 745938.5,3726370.5 L 745938.5,3726371.5 L 745939.0,3726371.5 L 745939.0,3726372.0 L 745939.5,3726372.0 L 745939.5,3726372.5 L 745940.0,3726372.5 L 745940.0,3726373.0 z\" /></g></g></svg>"
      ],
      "text/plain": [
       "<shapely.geometry.multipolygon.MultiPolygon at 0x149c83da0>"
      ]
     },
     "execution_count": 36,
     "metadata": {},
     "output_type": "execute_result"
    }
   ],
   "source": [
    "from shapely.ops import cascaded_union  # for viz of vector output\n",
    "cascaded_union(inferred_vectors.geometry.values)"
   ]
  },
  {
   "cell_type": "markdown",
   "metadata": {},
   "source": [
    "If the above didn't create an image you can see (as happens sometimes when serving Jupyter notebooks), the next cell creates a binary mask version of the same:\n"
   ]
  },
  {
   "cell_type": "code",
   "execution_count": null,
   "metadata": {},
   "outputs": [],
   "source": [
    "src_im_path = os.path.join(data_path, 'MVOI_data/MVOI_nadir10_test_sample.tif')\n",
    "# read the image in\n",
    "im_arr = skimage.io.imread(src_im_path)\n",
    "# rescale to min/max in each channel\n",
    "\n",
    "pred_arr = sol.vector.mask.footprint_mask(inferred_vectors,\n",
    "                                          reference_im=src_im_path)\n",
    "\n",
    "plt.imshow(pred_arr, cmap='gray')\n",
    "plt.axis('off')"
   ]
  },
  {
   "cell_type": "markdown",
   "metadata": {},
   "source": [
    "Let's compare this to the ground truth."
   ]
  },
  {
   "cell_type": "code",
   "execution_count": 37,
   "metadata": {},
   "outputs": [
    {
     "data": {
      "image/svg+xml": [
       "<svg xmlns=\"http://www.w3.org/2000/svg\" xmlns:xlink=\"http://www.w3.org/1999/xlink\" width=\"300\" height=\"300\" viewBox=\"745765.7714361363 3726021.0 453.22856386366766 486.0\" preserveAspectRatio=\"xMinYMin meet\"><g transform=\"matrix(1,0,0,-1,0,7452528.0)\"><g><path fill-rule=\"evenodd\" fill=\"#66cc99\" stroke=\"#555555\" stroke-width=\"3.24\" opacity=\"0.6\" d=\"M 745907.4363636584,3726050.204536764 L 745921.0365963487,3726049.088436413 L 745920.1926420556,3726039.0 L 745906.5074492528,3726039.0 L 745907.4363636584,3726050.204536764 z\" /><path fill-rule=\"evenodd\" fill=\"#66cc99\" stroke=\"#555555\" stroke-width=\"3.24\" opacity=\"0.6\" d=\"M 745855.6166962966,3726090.1081172256 L 745867.6011120909,3726104.933173098 L 745871.0900753175,3726102.0925266063 L 745872.6900562886,3726101.6008194564 L 745873.7339446932,3726102.160357405 L 745879.1940205045,3726097.749818486 L 745870.4290988867,3726086.969717262 L 745870.9846228207,3726085.9406557824 L 745867.0173601604,3726081.0107734045 L 745855.6166962966,3726090.1081172256 z\" /><path fill-rule=\"evenodd\" fill=\"#66cc99\" stroke=\"#555555\" stroke-width=\"3.24\" opacity=\"0.6\" d=\"M 745965.023275542,3726060.4950153963 L 745974.215141427,3726060.786426082 L 745974.4851684156,3726052.435740345 L 745973.5573225901,3726052.056755279 L 745971.8365806052,3726050.381024419 L 745971.8696034177,3726049.0943773445 L 745972.8427137851,3726047.70976839 L 745975.4759190057,3726046.023695741 L 745975.6372165553,3726040.100920567 L 745965.7034713842,3726039.779370684 L 745965.023275542,3726060.4950153963 z\" /><path fill-rule=\"evenodd\" fill=\"#66cc99\" stroke=\"#555555\" stroke-width=\"3.24\" opacity=\"0.6\" d=\"M 745918.3465593774,3726059.8632167014 L 745946.0539415979,3726091.773777515 L 746000.2447271461,3726093.3200416947 L 746001.1265603297,3726062.220815285 L 745918.3465593774,3726059.8632167014 z\" /><path fill-rule=\"evenodd\" fill=\"#66cc99\" stroke=\"#555555\" stroke-width=\"3.24\" opacity=\"0.6\" d=\"M 746200.956147969,3726200.3863131967 L 746201.0,3726197.5894815642 L 746201.0,3726167.927129865 L 746088.214226127,3726166.146652118 L 746088.3592881395,3726156.882624503 L 746076.4634340468,3726156.69924993 L 746075.7697485221,3726201.0667549856 L 746088.0273368962,3726201.2594223563 L 746088.0675809525,3726198.607769539 L 746200.956147969,3726200.3863131967 z\" /><path fill-rule=\"evenodd\" fill=\"#66cc99\" stroke=\"#555555\" stroke-width=\"3.24\" opacity=\"0.6\" d=\"M 745939.7972030668,3726377.1595495325 L 745970.3175740179,3726354.7679976076 L 745958.7977222557,3726339.2221517754 L 745956.3096029139,3726341.0451358855 L 745930.6411371399,3726306.400923035 L 745894.4154185115,3726332.9970454676 L 745920.6579790051,3726368.421728656 L 745928.8606658949,3726362.3945492 L 745939.7972030668,3726377.1595495325 z\" /><path fill-rule=\"evenodd\" fill=\"#66cc99\" stroke=\"#555555\" stroke-width=\"3.24\" opacity=\"0.6\" d=\"M 745827.874572888,3726435.1550535476 L 745829.9563585316,3726429.991890223 L 745832.3727220971,3726430.964005687 L 745836.2577809314,3726421.3630752396 L 745828.218307908,3726418.137875691 L 745822.2421971462,3726432.901735371 L 745827.874572888,3726435.1550535476 z\" /><path fill-rule=\"evenodd\" fill=\"#66cc99\" stroke=\"#555555\" stroke-width=\"3.24\" opacity=\"0.6\" d=\"M 745816.8396609114,3726489.0 L 745809.1530899771,3726473.8212555945 L 745805.717651878,3726476.7520792396 L 745811.9162993701,3726489.0 L 745816.8396609114,3726489.0 z\" /><path fill-rule=\"evenodd\" fill=\"#66cc99\" stroke=\"#555555\" stroke-width=\"3.24\" opacity=\"0.6\" d=\"M 745786.1150161084,3726485.3615946583 L 745791.0249892996,3726482.8459562915 L 745788.6814108001,3726478.3129120492 L 745783.7714361363,3726480.8285516985 L 745786.1150161084,3726485.3615946583 z\" /><path fill-rule=\"evenodd\" fill=\"#66cc99\" stroke=\"#555555\" stroke-width=\"3.24\" opacity=\"0.6\" d=\"M 745921.5564406321,3726232.492014827 L 745920.9727616045,3726207.126715063 L 745826.6887071895,3726209.269397204 L 745827.2726339657,3726234.6346769026 L 745921.5564406321,3726232.492014827 z\" /><path fill-rule=\"evenodd\" fill=\"#66cc99\" stroke=\"#555555\" stroke-width=\"3.24\" opacity=\"0.6\" d=\"M 746201.0,3726232.332378586 L 746191.3838988448,3726232.2501398795 L 746191.1898076788,3726255.3424149593 L 746201.0,3726255.4263149425 L 746201.0,3726232.332378586 z\" /></g></g></svg>"
      ],
      "text/plain": [
       "<shapely.geometry.multipolygon.MultiPolygon at 0x149c87c18>"
      ]
     },
     "execution_count": 37,
     "metadata": {},
     "output_type": "execute_result"
    }
   ],
   "source": [
    "import geopandas as gpd\n",
    "ground_truth_path = os.path.join(data_path,\n",
    "                                 'MVOI_data/MVOI_nadir10_test_sample.geojson')\n",
    "ground_truth_geoms = gpd.read_file(ground_truth_path)\n",
    "cascaded_union(ground_truth_geoms.geometry.values)\n"
   ]
  },
  {
   "cell_type": "markdown",
   "metadata": {},
   "source": [
    "And in raster format:"
   ]
  },
  {
   "cell_type": "code",
   "execution_count": null,
   "metadata": {},
   "outputs": [],
   "source": [
    "gt_arr = sol.vector.mask.footprint_mask(ground_truth_geoms,\n",
    "                                        reference_im=src_im_path)\n",
    "\n",
    "plt.imshow(gt_arr, cmap='gray')\n",
    "plt.axis('off')"
   ]
  },
  {
   "cell_type": "markdown",
   "metadata": {},
   "source": [
    "In truth, these look quite similar; however, we can toy with the threshold and see if it improves performance. Try it out in the cell below!"
   ]
  },
  {
   "cell_type": "code",
   "execution_count": null,
   "metadata": {},
   "outputs": [],
   "source": [
    "threshold_value = 0.75  # MODIFY THIS TO OPTIMIZE!\n",
    "\n",
    "inferred_vectors = sol.vector.mask.mask_to_poly_geojson(\n",
    "    inference_arr,\n",
    "    bg_threshold=threshold_value,\n",
    "    reference_im=src_im_path,\n",
    "    do_transform=True)\n",
    "\n",
    "cascaded_union(inferred_vectors.geometry.values)"
   ]
  },
  {
   "cell_type": "code",
   "execution_count": null,
   "metadata": {},
   "outputs": [],
   "source": [
    "pred_arr = sol.vector.mask.footprint_mask(inferred_vectors,\n",
    "                                          reference_im=src_im_path)\n",
    "\n",
    "plt.imshow(pred_arr, cmap='gray')\n",
    "plt.axis('off')"
   ]
  },
  {
   "cell_type": "markdown",
   "metadata": {},
   "source": [
    "This output can be saved to whatever format `geopandas` can save to (we usually use GeoJSON).\n",
    "\n",
    "_Coming up next:_ How would you score performance? What metrics would you use, and why?"
   ]
  }
 ],
 "metadata": {
  "kernelspec": {
   "display_name": "solaris",
   "language": "python",
   "name": "solaris"
  },
  "language_info": {
   "codemirror_mode": {
    "name": "ipython",
    "version": 3
   },
   "file_extension": ".py",
   "mimetype": "text/x-python",
   "name": "python",
   "nbconvert_exporter": "python",
   "pygments_lexer": "ipython3",
   "version": "3.6.7"
  }
 },
 "nbformat": 4,
 "nbformat_minor": 2
}
