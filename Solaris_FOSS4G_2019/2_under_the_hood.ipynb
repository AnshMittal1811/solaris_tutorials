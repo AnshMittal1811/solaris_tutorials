{
 "cells": [
  {
   "cell_type": "markdown",
   "metadata": {},
   "source": [
    "# Notebook 2: What's `solaris` doing under the hood?\n",
    "\n",
    "Let's go step-by-step through an inference pipeline to see what `solaris` is doing during that process. For simplicity we'll be using the same image as in Notebook 1.\n",
    "\n",
    "There are several steps to the inference process:\n",
    "\n",
    "1. [Pre-processing input images]\n",
    "2. [Cropping input images to ML-compatible sizes]\n",
    "3. [Generating predictions with the neural net]\n",
    "4. [Going from predictions to geo-registered vector labels]\n",
    "5. [What's next: scoring model performance]\n",
    "\n",
    "Let's start with input pre-processing."
   ]
  },
  {
   "cell_type": "code",
   "execution_count": null,
   "metadata": {},
   "outputs": [],
   "source": []
  }
 ],
 "metadata": {
  "kernelspec": {
   "display_name": "solaris",
   "language": "python",
   "name": "solaris"
  },
  "language_info": {
   "codemirror_mode": {
    "name": "ipython",
    "version": 3
   },
   "file_extension": ".py",
   "mimetype": "text/x-python",
   "name": "python",
   "nbconvert_exporter": "python",
   "pygments_lexer": "ipython3",
   "version": "3.6.7"
  }
 },
 "nbformat": 4,
 "nbformat_minor": 2
}
